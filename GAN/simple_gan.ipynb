{
 "cells": [
  {
   "cell_type": "code",
   "execution_count": 7,
   "metadata": {},
   "outputs": [],
   "source": [
    "%matplotlib inline\n",
    "import torch\n",
    "from torch import nn\n",
    "import matplotlib.pyplot as plt"
   ]
  },
  {
   "cell_type": "code",
   "execution_count": 8,
   "metadata": {},
   "outputs": [
    {
     "name": "stdout",
     "output_type": "stream",
     "text": [
      "The covariance matrix is\n",
      "tensor([[1.0100, 1.9500],\n",
      "        [1.9500, 4.2500]])\n"
     ]
    },
    {
     "data": {
      "image/png": "[encoded data removed]",
      "text/plain": [
       "<Figure size 432x288 with 1 Axes>"
      ]
     },
     "metadata": {
      "needs_background": "light"
     },
     "output_type": "display_data"
    }
   ],
   "source": [
    "#  Generate Some “Real” Data\n",
    "X = torch.normal(0.0, 1, (1000, 2))\n",
    "A = torch.tensor([[1, 2], [-0.1, 0.5]])\n",
    "b = torch.tensor([1, 2])\n",
    "data = torch.matmul(X, A) + b\n",
    "print(f'The covariance matrix is\\n{torch.matmul(A.T, A)}')\n",
    "plt.scatter(data[:100, 0].detach().numpy(), data[:100, 1].detach().numpy())\n",
    "plt.show()"
   ]
  },
  {
   "cell_type": "code",
   "execution_count": 9,
   "metadata": {},
   "outputs": [],
   "source": [
    "batch_size = 8\n",
    "data_iter = torch.utils.data.DataLoader(dataset=data, batch_size=batch_size, shuffle=True)"
   ]
  },
  {
   "cell_type": "code",
   "execution_count": 10,
   "metadata": {},
   "outputs": [],
   "source": [
    "# Generator\n",
    "net_G = nn.Sequential(nn.Linear(2, 2))\n",
    "\n",
    "# Discriminator\n",
    "net_D = nn.Sequential(\n",
    "        nn.Linear(2, 5), nn.Tanh(),\n",
    "        nn.Linear(5, 3), nn.Tanh(),\n",
    "        nn.Linear(3, 1)\n",
    "    )"
   ]
  },
  {
   "cell_type": "code",
   "execution_count": 12,
   "metadata": {},
   "outputs": [],
   "source": [
    "def update_D(X, Z, net_D, net_G, loss, trainer_D):\n",
    "    \"\"\"Update discriminator.\"\"\"\n",
    "    batch_size = X.shape[0]\n",
    "    ones = torch.ones((batch_size,), device=X.device)\n",
    "    zeros = torch.zeros((batch_size,), device=X.device)\n",
    "    trainer_D.zero_grad()\n",
    "    real_Y = net_D(X)\n",
    "    fake_X = net_G(Z)\n",
    "    # Do not need to compute gradient for `net_G`, detach it from\n",
    "    # computing gradients.\n",
    "    fake_Y = net_D(fake_X.detach())\n",
    "    loss_D = (loss(real_Y, ones.reshape(real_Y.shape)) +\n",
    "                loss(fake_Y, zeros.reshape(fake_Y.shape))) / 2\n",
    "    loss_D.backward()\n",
    "    trainer_D.step()\n",
    "    return loss_D\n",
    "\n",
    "def update_G(Z, net_D, net_G, loss, trainer_G):\n",
    "    \"\"\"Update generator.\"\"\"\n",
    "    batch_size = Z.shape[0]\n",
    "    ones = torch.ones((batch_size,), device=Z.device)\n",
    "    trainer_G.zero_grad()\n",
    "    # We could reuse `fake_X` from `update_D` to save computation\n",
    "    fake_X = net_G(Z)\n",
    "    # Recomputing `fake_Y` is needed since `net_D` is changed\n",
    "    fake_Y = net_D(fake_X)\n",
    "    loss_G = loss(fake_Y, ones.reshape(fake_Y.shape))\n",
    "    loss_G.backward()\n",
    "    trainer_G.step()\n",
    "    return loss_G"
   ]
  },
  {
   "cell_type": "code",
   "execution_count": 23,
   "metadata": {},
   "outputs": [],
   "source": [
    "lossD = []\n",
    "lossG = []\n",
    "def train(net_D, net_G, data_iter, num_epochs, lr_D, lr_G, latent_dim, data):\n",
    "    loss = nn.BCEWithLogitsLoss(reduction='sum')\n",
    "    for w in net_D.parameters():\n",
    "        nn.init.normal_(w, 0, 0.02)\n",
    "    for w in net_G.parameters():\n",
    "        nn.init.normal_(w, 0, 0.02)\n",
    "    trainer_D = torch.optim.Adam(net_D.parameters(), lr=lr_D)\n",
    "    trainer_G = torch.optim.Adam(net_G.parameters(), lr=lr_G)\n",
    "    for epoch in range(num_epochs):\n",
    "       for X in data_iter:\n",
    "            batch_size = X.shape[0]\n",
    "            Z = torch.normal(0, 1, size=(batch_size, latent_dim))\n",
    "            lossD.append(update_D(X, Z, net_D, net_G, loss, trainer_D))\n",
    "            lossG.append(update_G(Z, net_D, net_G, loss, trainer_G))\n",
    "            # Visualize generated examples\n",
    "\n",
    "lr_D, lr_G, latent_dim, num_epochs = 0.05, 0.005, 2, 20\n",
    "train(net_D, net_G, data_iter, num_epochs, lr_D, lr_G,\n",
    "latent_dim, data[:100].detach().numpy())\n"
   ]
  },
  {
   "cell_type": "code",
   "execution_count": 22,
   "metadata": {},
   "outputs": [
    {
     "name": "stdout",
     "output_type": "stream",
     "text": [
      "torch.Size([8, 2])\n"
     ]
    }
   ],
   "source": [
    "plt.plot()"
   ]
  }
 ],
 "metadata": {
  "kernelspec": {
   "display_name": "directml",
   "language": "python",
   "name": "python3"
  },
  "language_info": {
   "codemirror_mode": {
    "name": "ipython",
    "version": 3
   },
   "file_extension": ".py",
   "mimetype": "text/x-python",
   "name": "python",
   "nbconvert_exporter": "python",
   "pygments_lexer": "ipython3",
   "version": "3.10.11"
  },
  "orig_nbformat": 4
 },
 "nbformat": 4,
 "nbformat_minor": 2
}
